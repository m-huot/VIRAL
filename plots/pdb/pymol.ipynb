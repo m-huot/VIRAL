{
 "cells": [
  {
   "cell_type": "markdown",
   "metadata": {},
   "source": [
    "# Viz using pymol software called from python\n",
    "\n",
    "### PDB: 8FXC\n",
    "- E : spike\n",
    "- A : ACE2\n",
    "- H and L: antibody\n",
    "\n"
   ]
  },
  {
   "cell_type": "code",
   "execution_count": 2,
   "metadata": {},
   "outputs": [
    {
     "ename": "",
     "evalue": "",
     "output_type": "error",
     "traceback": [
      "\u001b[1;31mThe Kernel crashed while executing code in the current cell or a previous cell. \n",
      "\u001b[1;31mPlease review the code in the cell(s) to identify a possible cause of the failure. \n",
      "\u001b[1;31mClick <a href='https://aka.ms/vscodeJupyterKernelCrash'>here</a> for more info. \n",
      "\u001b[1;31mView Jupyter <a href='command:jupyter.viewOutput'>log</a> for further details."
     ]
    }
   ],
   "source": [
    "import pymol\n",
    "from pymol import cmd\n",
    "\n",
    "# Start PyMOL\n",
    "pymol.finish_launching()\n",
    "\n",
    "# Fetch the PDB file\n",
    "pdb_id = \"8FXC\"\n",
    "cmd.fetch(pdb_id, \"8FXC\")\n",
    "\n",
    "# Define chains and their roles\n",
    "chains = {\n",
    "    \"E\": \"Spike\",\n",
    "    \"A\": \"ACE2\",\n",
    "    \"H\": \"Antibody Heavy Chain\",\n",
    "    \"L\": \"Antibody Light Chain\"\n",
    "}\n",
    "\n",
    "\n",
    "\n",
    "#top20 \n",
    "top_residues_chain_E =[\n",
    " 361,\n",
    " 336,\n",
    " 337,\n",
    " 340,\n",
    " 516,\n",
    " 484,\n",
    " 483,\n",
    " 499,\n",
    " 358,\n",
    " 507,\n",
    " 356,\n",
    " 445,\n",
    " 465,\n",
    " 471,\n",
    " 452,\n",
    " 486,\n",
    " 479,\n",
    " 391,\n",
    " 485,\n",
    " 493]\n",
    "# Set a white background for publication quality\n",
    "cmd.bg_color(\"white\")\n",
    "\n",
    "# Hide everything initially\n",
    "cmd.hide(\"everything\", \"all\")\n",
    "\n",
    "# Set different colors for each chain and show them in cartoon style\n",
    "colors = [\"cyan\", \"blue\", \"green\", \"yellow\"]  # Adjusted colors for better contrast\n",
    "for i, (chain, role) in enumerate(chains.items()):\n",
    "    selection_name = f\"chain_{chain}\"\n",
    "    cmd.select(selection_name, f\"chain {chain}\")\n",
    "    cmd.show(\"cartoon\", selection_name)\n",
    "    cmd.color(colors[i], selection_name)\n",
    "    print(f\"Chain {chain} ({role}) is colored {colors[i]}.\")\n",
    "\n",
    "# Highlight top interface residues on chain E\n",
    "cmd.select(\"top_sites_E\", f\"chain E and resi {'+'.join(map(str, top_residues_chain_E))}\")\n",
    "cmd.color(\"red\", \"top_sites_E\")\n",
    "cmd.show(\"sticks\", \"top_sites_E\")  # Show interface residues in stick representation for clarity\n",
    "\n",
    "# Improve visibility of cartoon and stick representations\n",
    "cmd.set(\"cartoon_transparency\", 0.1, \"chain E\")  # Slight transparency for context\n",
    "cmd.set(\"cartoon_transparency\", 0.1, \"chain L\")  # Slight transparency for context\n",
    "cmd.set(\"cartoon_transparency\", 0.1, \"chain H\")  # Slight transparency for context\n",
    "cmd.set(\"cartoon_transparency\", 0.1, \"chain A\")  # Slight transparency for context\n",
    "\n",
    "cmd.set(\"stick_radius\", 0.2)  # Thicker sticks for visibility\n",
    "\n",
    "# Zoom to fit all chains\n",
    "cmd.zoom(\"all\")\n",
    "\n",
    "# Add ray tracing for a high-quality rendering\n",
    "cmd.set(\"ray_opaque_background\", 0)  # Transparent background for ray tracing (optional)\n",
    "cmd.ray(1920, 1080)  # High-resolution rendering for publication\n",
    "\n",
    "# Save the image for publication\n",
    "\n",
    "# Keep PyMOL running\n",
    "print(\"Publication-ready visualization complete. Top interface residues on chain E are highlighted in red.\")\n"
   ]
  }
 ],
 "metadata": {
  "kernelspec": {
   "display_name": "pymol_env",
   "language": "python",
   "name": "python3"
  },
  "language_info": {
   "codemirror_mode": {
    "name": "ipython",
    "version": 3
   },
   "file_extension": ".py",
   "mimetype": "text/x-python",
   "name": "python",
   "nbconvert_exporter": "python",
   "pygments_lexer": "ipython3",
   "version": "3.8.20"
  }
 },
 "nbformat": 4,
 "nbformat_minor": 2
}
